{
 "cells": [
  {
   "cell_type": "code",
   "execution_count": 18,
   "metadata": {},
   "outputs": [],
   "source": [
    "import heapq;"
   ]
  },
  {
   "cell_type": "code",
   "execution_count": 19,
   "metadata": {},
   "outputs": [],
   "source": [
    "def djikstra(graph: dict[str, dict[str, float]], start: str) -> dict[str, float]:\n",
    "    distances: dict[str, float] = {vertex: float(\"inf\") for vertex in graph}\n",
    "    \n",
    "    distances[start] = 0\n",
    "    \n",
    "    queue: list[tuple[float, str]] = [(0, start)]\n",
    "    while queue:\n",
    "        current_distance, current_vertex = heapq.heappop(queue)\n",
    "        if current_distance > distances[current_vertex]:\n",
    "            continue\n",
    "        \n",
    "        for neighbour, weight in graph[current_vertex].items():\n",
    "            distance = current_distance + weight\n",
    "            if distance < distances[neighbour]:\n",
    "                distances[neighbour] = distance\n",
    "                heapq.heappush(queue, (distance, neighbour))\n",
    "                \n",
    "    return distances"
   ]
  },
  {
   "cell_type": "code",
   "execution_count": 20,
   "metadata": {},
   "outputs": [
    {
     "name": "stdout",
     "output_type": "stream",
     "text": [
      "{'A': 0, 'B': 4, 'C': 7, 'D': 6, 'E': 7, 'F': 10}\n"
     ]
    }
   ],
   "source": [
    "graph: dict[str, dict[str, float]] = {\n",
    "    'A': {'B': 4, 'C': 7},\n",
    "    'B': {'A': 4, 'D': 2, 'E': 8},\n",
    "    'C': {'A': 7, 'D': 2, 'E': 5},\n",
    "    'D': {'B': 2, 'C': 2, 'E': 1,'F': 4},\n",
    "    'E': {'C': 5, 'D': 1, 'F': 11},\n",
    "    'F': {'B': 8, 'D': 4, 'E': 11}\n",
    "}\n",
    "res = djikstra(graph, 'A')\n",
    "print(res)"
   ]
  }
 ],
 "metadata": {
  "kernelspec": {
   "display_name": "Python 3",
   "language": "python",
   "name": "python3"
  },
  "language_info": {
   "codemirror_mode": {
    "name": "ipython",
    "version": 3
   },
   "file_extension": ".py",
   "mimetype": "text/x-python",
   "name": "python",
   "nbconvert_exporter": "python",
   "pygments_lexer": "ipython3",
   "version": "3.10.11"
  }
 },
 "nbformat": 4,
 "nbformat_minor": 2
}
