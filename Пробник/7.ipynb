{
 "cells": [
  {
   "cell_type": "code",
   "execution_count": 3,
   "metadata": {},
   "outputs": [
    {
     "data": {
      "text/plain": [
       "3.779047619047619"
      ]
     },
     "execution_count": 3,
     "metadata": {},
     "output_type": "execute_result"
    }
   ],
   "source": [
    "((93*2**13) / 0.75)/(280*960)"
   ]
  },
  {
   "cell_type": "code",
   "execution_count": 5,
   "metadata": {},
   "outputs": [
    {
     "data": {
      "text/plain": [
       "6.357552004618084"
      ]
     },
     "execution_count": 5,
     "metadata": {},
     "output_type": "execute_result"
    }
   ],
   "source": [
    "from math import log2\n",
    "log2(82)"
   ]
  },
  {
   "cell_type": "code",
   "execution_count": 8,
   "metadata": {},
   "outputs": [
    {
     "data": {
      "text/plain": [
       "13.727981598987748"
      ]
     },
     "execution_count": 8,
     "metadata": {},
     "output_type": "execute_result"
    }
   ],
   "source": [
    "2**((93*2**13) / (280*960*0.75))"
   ]
  },
  {
   "cell_type": "code",
   "execution_count": 24,
   "metadata": {},
   "outputs": [
    {
     "data": {
      "text/plain": [
       "63904031999.0"
      ]
     },
     "execution_count": 24,
     "metadata": {},
     "output_type": "execute_result"
    }
   ],
   "source": [
    "F =421511514124121\n",
    "(4000*(3998*(3996*F - 1) - 1) - 1) / F - 1"
   ]
  },
  {
   "cell_type": "code",
   "execution_count": 4,
   "metadata": {},
   "outputs": [
    {
     "name": "stdout",
     "output_type": "stream",
     "text": [
      "РАКЕТ\n",
      "РАКТЕ\n",
      "РАЕКТ\n",
      "РАЕТК\n",
      "РАТКЕ\n",
      "РАТЕК\n",
      "РКАЕТ\n",
      "РКАТЕ\n",
      "РКЕАТ\n",
      "РКЕТА\n",
      "РКТАЕ\n",
      "РКТЕА\n",
      "РЕАКТ\n",
      "РЕАТК\n",
      "РЕКАТ\n",
      "РЕКТА\n",
      "РЕТАК\n",
      "РЕТКА\n",
      "РТАКЕ\n",
      "РТАЕК\n",
      "РТКАЕ\n",
      "РТКЕА\n",
      "РТЕАК\n",
      "РТЕКА\n",
      "КРАЕТ\n",
      "КРАТЕ\n",
      "КРЕАТ\n",
      "КРЕТА\n",
      "КРТАЕ\n",
      "КРТЕА\n",
      "КАРЕТ\n",
      "КАРТЕ\n",
      "КАЕРТ\n",
      "КАТЕР\n",
      "КЕРАТ\n",
      "КЕРТА\n",
      "КЕАРТ\n",
      "КЕТАР\n",
      "КТАРЕ\n",
      "КТАЕР\n",
      "КТЕРА\n",
      "КТЕАР\n",
      "ЕРАКТ\n",
      "ЕРАТК\n",
      "ЕРКАТ\n",
      "ЕРКТА\n",
      "ЕРТАК\n",
      "ЕРТКА\n",
      "ЕАРКТ\n",
      "ЕАРТК\n",
      "ЕАКРТ\n",
      "ЕАТКР\n",
      "ЕКРАТ\n",
      "ЕКРТА\n",
      "ЕКАРТ\n",
      "ЕКТАР\n",
      "ЕТАРК\n",
      "ЕТАКР\n",
      "ЕТКРА\n",
      "ЕТКАР\n",
      "ТАРКЕ\n",
      "ТАРЕК\n",
      "ТАКРЕ\n",
      "ТАКЕР\n",
      "ТАЕРК\n",
      "ТАЕКР\n",
      "ТКРАЕ\n",
      "ТКРЕА\n",
      "ТКАРЕ\n",
      "ТКАЕР\n",
      "ТКЕРА\n",
      "ТКЕАР\n",
      "ТЕРАК\n",
      "ТЕРКА\n",
      "ТЕАРК\n",
      "ТЕАКР\n",
      "ТЕКРА\n",
      "ТЕКАР\n",
      "78\n"
     ]
    }
   ],
   "source": [
    "from itertools import permutations\n",
    "cnt=0\n",
    "for p in permutations(\"РАКЕТ\"):\n",
    "    w = \"\".join(p)\n",
    "    if w[0] != 'А' and \"ТР\" not in w:\n",
    "        print(w)\n",
    "        cnt += 1\n",
    "print(cnt)"
   ]
  }
 ],
 "metadata": {
  "kernelspec": {
   "display_name": "Python 3",
   "language": "python",
   "name": "python3"
  },
  "language_info": {
   "codemirror_mode": {
    "name": "ipython",
    "version": 3
   },
   "file_extension": ".py",
   "mimetype": "text/x-python",
   "name": "python",
   "nbconvert_exporter": "python",
   "pygments_lexer": "ipython3",
   "version": "3.10.11"
  }
 },
 "nbformat": 4,
 "nbformat_minor": 2
}
